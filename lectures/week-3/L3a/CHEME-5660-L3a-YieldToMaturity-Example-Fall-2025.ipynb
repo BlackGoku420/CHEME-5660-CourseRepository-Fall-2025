{
 "cells": [
  {
   "cell_type": "markdown",
   "id": "7c7a73b4-2986-462a-9ce1-3422dc1e195d",
   "metadata": {},
   "source": [
    "# Example: Yield to Maturity Calculation\n",
    "In this example, we will calculate the yield to maturity (YTM) of a bond given its price, face value, coupon rate, and time to maturity. The YTM is the internal rate of return (IRR) of the bond, assuming it is held until maturity and all coupon payments are made as scheduled.\n",
    "\n",
    "> __Motivation:__ Fill me in.\n",
    "\n",
    "\n",
    "Let's get started!\n",
    "___"
   ]
  },
  {
   "cell_type": "markdown",
   "id": "4578debb",
   "metadata": {},
   "source": [
    "## Setup, Data, and Prerequisites\n",
    "We set up the computational environment by including the `Include.jl` file, loading any needed resources, such as sample datasets, and setting up any required constants. \n",
    "\n",
    "> __Include:__ The [include(...) function](https://docs.julialang.org/en/v1/base/base/#include) is a convenient way to load Julia code from another file. The `Include.jl` file is a Julia file that loads external packages, and various functions that we will use in the exercise. It checks for a `Manifest.toml` file; if it finds one, packages are loaded. Otherwise, packages are downloaded and then loaded."
   ]
  },
  {
   "cell_type": "code",
   "execution_count": 1,
   "id": "1a49c647",
   "metadata": {},
   "outputs": [
    {
     "name": "stderr",
     "output_type": "stream",
     "text": [
      "\u001b[32m\u001b[1m    Updating\u001b[22m\u001b[39m git-repo `https://github.com/varnerlab/VLQuantitativeFinancePackage.jl.git`\n",
      "\u001b[32m\u001b[1m   Resolving\u001b[22m\u001b[39m package versions...\n",
      "\u001b[32m\u001b[1m  No Changes\u001b[22m\u001b[39m to `~/.julia/environments/v1.11/Project.toml`\n",
      "\u001b[32m\u001b[1m  No Changes\u001b[22m\u001b[39m to `~/.julia/environments/v1.11/Manifest.toml`\n",
      "\u001b[32m\u001b[1m  Activating\u001b[22m\u001b[39m project at `~/Desktop/julia_work/CHEME-5660-CourseRepository-Fall-2025/lectures/week-3/L3a`\n"
     ]
    },
    {
     "ename": "LoadError",
     "evalue": "LoadError: expected package `VLQuantitativeFinancePackage [4119e0bf]` to be registered\nin expression starting at /Users/jdv27/Desktop/julia_work/CHEME-5660-CourseRepository-Fall-2025/lectures/week-3/L3a/Include.jl:9",
     "output_type": "error",
     "traceback": [
      "LoadError: expected package `VLQuantitativeFinancePackage [4119e0bf]` to be registered\n",
      "in expression starting at /Users/jdv27/Desktop/julia_work/CHEME-5660-CourseRepository-Fall-2025/lectures/week-3/L3a/Include.jl:9\n",
      "\n",
      "Stacktrace:\n",
      "  [1] pkgerror(msg::String)\n",
      "    @ Pkg.Types ~/.julia/juliaup/julia-1.11.6+0.aarch64.apple.darwin14/share/julia/stdlib/v1.11/Pkg/src/Types.jl:68\n",
      "  [2] check_registered\n",
      "    @ ~/.julia/juliaup/julia-1.11.6+0.aarch64.apple.darwin14/share/julia/stdlib/v1.11/Pkg/src/Operations.jl:1329 [inlined]\n",
      "  [3] up(ctx::Pkg.Types.Context, pkgs::Vector{Pkg.Types.PackageSpec}, level::Pkg.Types.UpgradeLevel; skip_writing_project::Bool, preserve::Nothing)\n",
      "    @ Pkg.Operations ~/.julia/juliaup/julia-1.11.6+0.aarch64.apple.darwin14/share/julia/stdlib/v1.11/Pkg/src/Operations.jl:1632\n",
      "  [4] up\n",
      "    @ ~/.julia/juliaup/julia-1.11.6+0.aarch64.apple.darwin14/share/julia/stdlib/v1.11/Pkg/src/Operations.jl:1612 [inlined]\n",
      "  [5] up(ctx::Pkg.Types.Context, pkgs::Vector{Pkg.Types.PackageSpec}; level::Pkg.Types.UpgradeLevel, mode::Pkg.Types.PackageMode, preserve::Nothing, update_registry::Bool, skip_writing_project::Bool, kwargs::@Kwargs{})\n",
      "    @ Pkg.API ~/.julia/juliaup/julia-1.11.6+0.aarch64.apple.darwin14/share/julia/stdlib/v1.11/Pkg/src/API.jl:388\n",
      "  [6] up\n",
      "    @ ~/.julia/juliaup/julia-1.11.6+0.aarch64.apple.darwin14/share/julia/stdlib/v1.11/Pkg/src/API.jl:362 [inlined]\n",
      "  [7] up\n",
      "    @ ~/.julia/juliaup/julia-1.11.6+0.aarch64.apple.darwin14/share/julia/stdlib/v1.11/Pkg/src/API.jl:164 [inlined]\n",
      "  [8] #resolve#143\n",
      "    @ ~/.julia/juliaup/julia-1.11.6+0.aarch64.apple.darwin14/share/julia/stdlib/v1.11/Pkg/src/API.jl:394 [inlined]\n",
      "  [9] resolve\n",
      "    @ ~/.julia/juliaup/julia-1.11.6+0.aarch64.apple.darwin14/share/julia/stdlib/v1.11/Pkg/src/API.jl:393 [inlined]\n",
      " [10] resolve(; io::IOContext{IO}, kwargs::@Kwargs{})\n",
      "    @ Pkg.API ~/.julia/juliaup/julia-1.11.6+0.aarch64.apple.darwin14/share/julia/stdlib/v1.11/Pkg/src/API.jl:392\n",
      " [11] top-level scope\n",
      "    @ ~/Desktop/julia_work/CHEME-5660-CourseRepository-Fall-2025/lectures/week-3/L3a/Include.jl:11"
     ]
    }
   ],
   "source": [
    "include(joinpath(@__DIR__, \"Include.jl\")); # this sets up the environment, we'll do this all the time, on everything we do"
   ]
  },
  {
   "cell_type": "markdown",
   "id": "bc999d8d",
   "metadata": {},
   "source": [
    "For additional information on functions and types used in this material, see the [Julia programming language documentation](https://docs.julialang.org/en/v1/) and the [VLQuantitativeFinancePackage.jl documentation](https://github.com/varnerlab/VLQuantitativeFinancePackage.jl). "
   ]
  }
 ],
 "metadata": {
  "kernelspec": {
   "display_name": "Julia 1.11.6",
   "language": "julia",
   "name": "julia-1.11"
  },
  "language_info": {
   "file_extension": ".jl",
   "mimetype": "application/julia",
   "name": "julia",
   "version": "1.11.6"
  }
 },
 "nbformat": 4,
 "nbformat_minor": 5
}
