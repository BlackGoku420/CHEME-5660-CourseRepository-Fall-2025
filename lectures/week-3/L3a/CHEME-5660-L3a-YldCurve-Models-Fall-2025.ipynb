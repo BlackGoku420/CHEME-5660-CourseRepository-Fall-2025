{
 "cells": [
  {
   "cell_type": "markdown",
   "id": "9245ff95",
   "metadata": {},
   "source": [
    "# L3a: Modeling and Analysis of Interest Rates\n",
    "Today, we will continue our discussion of United States Treasury Securities and introduce the term structure of interest rates, the Yield curve, and our first prediction model, the binomial lattice model of interest rates, which can be used to compute future (unknown) rates. \n",
    "\n",
    "After today's lecture, students should be able to define and demonstrate mastery of the following concepts:\n",
    "* The __term structure of interest rates__ refers to the relationship between interest rates on Treasury securities of different maturities. It reflects how the market perceives future economic conditions and expectations for inflation and growth. It is our first example of using the market to infer future conditions.\n",
    "* The __Yield curve__ is the time evolution of the interest rates for various maturity Treasury securities. In popular parlance, the yield curve is an _indicator_ computed as the interest rate on long-maturity instruments minus short-maturity instruments. It is used to predict future economic conditions, such as recessions or expansions.\n",
    "* A __binomial lattice model__ assumes that tomorrow can exist in one of two possible states: up or down. From today, we move to the up state with probability $p$ and the down state with probability $(1 - p)$. We'll use this type of model to _predict future interest rates_.\n",
    "\n",
    "\n",
    "Understanding these concepts is critical for predicting potential future economic trends, managing interest rate risk and other types of financial risks, and making informed decisions. So let's go!\n",
    "\n",
    "___"
   ]
  },
  {
   "cell_type": "markdown",
   "id": "32cae6bb",
   "metadata": {},
   "source": [
    "## Examples\n",
    "Fill me in.\n",
    "\n",
    "___"
   ]
  },
  {
   "cell_type": "markdown",
   "id": "ec3b4bf9",
   "metadata": {},
   "source": [
    "## Term Structure of Interest Rates\n",
    "The term structure of interest rates is a fundamental concept in finance that describes the relationship between the interest rates of Treasury securities and their maturities. \n",
    "> __Term structure of interest rates__ is the relationship between the _yields_ on fixed income debt securities of different maturities but similar credit quality, observed at a specific point in time. It typically illustrates how interest rates vary with the length of time until a bond's maturity.\n",
    "\n",
    "In order to dig into the term structure of interest rates, we need to understand a few key concepts, let's start with the yield and the spot rate."
   ]
  },
  {
   "cell_type": "markdown",
   "id": "6f4c0272",
   "metadata": {},
   "source": [
    "### Yields and Spot Rates for Zero-Coupon Instruments\n",
    "The yield is the return on an investment, expressed as a percentage of the investment's cost. Suppose we are look at zero-coupon Treasury securities, which are bonds that do not pay periodic interest but are sold at a discount to their face value. \n",
    "> __Investment yield__: The investment yield on a zero-coupon bond is the difference between the purchase price and the face value, divided by the purchase price, multipled by a factor to annualize the yield.\n",
    "\n",
    "> __Spot rate__: The spot rate is the discount rate used to calculate the present value of future cash flows from a zero-coupon bond. The relationship between the investment yield and the spot rate can be derived from the bond pricing formula.\n",
    "\n",
    "The _annualized investment yield_ of a zero-coupon instrument with $t$ days to maturity (units: days), face (par) value $V_{P}$ (units: USD), and purchase price $V_{B}$ (units: USD) is given by:\n",
    "$$\n",
    "\\begin{align*}\n",
    "Y(t) &= \\left(\\frac{V_{P} - V_{B}}{V_{B}}\\right) \\times \\left(\\frac{364}{t}\\right)\\\\\n",
    "&= \\left(\\frac{V_{P}}{V_{B}} - 1\\right) \\times \\left(\\frac{364}{t}\\right)\\quad\\Longrightarrow{T = \\frac{t}{364}}\\\\\n",
    "& = \\underbrace{\\left(\\frac{V_{P}}{V_{B}} - 1\\right)}_{\\text{HPR}} \\times \\underbrace{\\left(\\frac{1}{T}\\right)}_{\\text{annualize}}\\quad\\blacksquare\\\\\n",
    "\\end{align*}\n",
    "$$\n",
    "where $\\text{HPR}$ is the __holding period return__ and the $1/T$ term is an __annualization factor__. To better understand the relationship between the yield and the discount (spot) rate, we can rewrite the yield as:\n",
    "$$\n",
    "\\begin{align*}\n",
    "Y &= \\left(\\frac{V_{P}}{V_{B}} - 1\\right) \\times \\left(\\frac{1}{T}\\right)\\quad\\Longrightarrow{V_{B}=\\mathcal{D}_{nT,0}^{-1}(\\bar{r})\\;V_{P}}\\\\\n",
    "Y & = \\left(\\frac{V_{P}}{\\mathcal{D}_{nT,0}^{-1}(\\bar{r})\\;V_{P}} - 1\\right)\\times \\left(\\frac{1}{T}\\right)\\\\\n",
    "Y & = \\left(\\frac{1}{\\mathcal{D}_{nT,0}^{-1}(\\bar{r})} - 1\\right)\\times \\left(\\frac{1}{T}\\right)\\\\\n",
    "Y & = \\left(\\mathcal{D}_{nT,0}(\\bar{r}) - 1\\right)\\times \\left(\\frac{1}{T}\\right)\\quad\\Longrightarrow\\text{solve for discount factor}\\\\\n",
    "\\mathcal{D}_{nT,0}(\\bar{r}) &= 1 + Y\\;T\\quad\\Longrightarrow\\mathcal{D}_{nT,0}(\\bar{r})=\\left(1+\\bar{r}/n\\right)^{nT}\\\\\n",
    "\\left(1+\\bar{r}/n\\right)^{nT} & = 1 + Y\\;T\\quad\\Longrightarrow\\text{solve for}\\;\\bar{r}\\\\\n",
    "\\bar{r} & = n\\left[\\left(1 + Y\\;T\\right)^{1/(nT)} - 1\\right]\\quad\\blacksquare\n",
    "\\end{align*}\n",
    "$$\n",
    "This derivation shows the relationship between the **investment yield** $Y$ (a simple annualized return calculation), \n",
    "the time to maturity $T$ (in years), the compounding frequency $n$ (number of compounding periods per year),\n",
    "and the **spot rate** $\\bar{r}$ (the discount rate used for discounting a zero-coupon pricing at auction).\n",
    "\n",
    "> __Example__: For a 52-week zero-coupon Treasury Bill with semiannual compounding ($n=2$, $T=1$), the relationship between the discount rate and the investment yield can be expressed as:\n",
    ">$$\n",
    ">\\boxed{\n",
    ">\\bar{r} = 2\\left[\\left(1 + Y\\right)^{1/2} - 1\\right] \\quad\\text{for}\\;n=2,\\;T=1\\quad\\text{(52-week zero-coupon)}\n",
    ">}\n",
    ">$$\n",
    ">where $Y$ is the annualized investment yield and $\\bar{r}$ is the corresponding __spot rate__ used in zero-coupon pricing calculations."
   ]
  },
  {
   "cell_type": "markdown",
   "id": "bdc99fa9",
   "metadata": {},
   "source": [
    "### Yield to Maturity (YTM) for Coupon-Bearing Notes (Bonds)\n",
    "The yield to maturity (YTM) is a key concept for coupon-bearing notes (bonds). \n",
    "> __Yield to Maturity (YTM)__ represents the total return an investor can expect to earn if the note (bond) is held until maturity, taking into account both the bond's current market price and its future cash flows (coupon payments and face value at maturity)."
   ]
  },
  {
   "cell_type": "markdown",
   "id": "ad5e5c86",
   "metadata": {},
   "source": [
    "## Yield Curve\n",
    "The yield curve is a graphical representation of the relationship between the yields of Treasury coupon Treasury securities and their maturities. It is believed to have some power to predict, like a crystal ball, future economic conditions, such as recessions or expansions.\n"
   ]
  },
  {
   "cell_type": "markdown",
   "id": "1a996200",
   "metadata": {},
   "source": [
    "## Binomial Lattice Models\n",
    "Fill me in."
   ]
  },
  {
   "cell_type": "markdown",
   "id": "82aa01bd",
   "metadata": {},
   "source": []
  }
 ],
 "metadata": {
  "language_info": {
   "name": "python"
  }
 },
 "nbformat": 4,
 "nbformat_minor": 5
}
