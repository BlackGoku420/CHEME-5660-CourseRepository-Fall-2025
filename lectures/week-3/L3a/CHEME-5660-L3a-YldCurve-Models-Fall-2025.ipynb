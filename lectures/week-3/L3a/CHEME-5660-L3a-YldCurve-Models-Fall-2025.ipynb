{
 "cells": [
  {
   "cell_type": "markdown",
   "id": "9245ff95",
   "metadata": {},
   "source": [
    "# L3a: Modeling and Analysis of Interest Rates\n",
    "Today, we will continue our discussion of United States Treasury Securities and introduce the term structure of interest rates, the Yield curve, and our first prediction model, the binomial lattice model of interest rates, which can be used to compute future (unknown) rates. \n",
    "\n",
    "After today's lecture, students should be able to define and demonstrate mastery of the following concepts:\n",
    "* The __term structure of interest rates__ refers to the relationship between interest rates on Treasury securities of different maturities. It reflects how the market perceives future economic conditions and expectations for inflation and growth. It is our first example of using the market to infer future conditions.\n",
    "* A __binomial lattice model__ assumes that tomorrow can exist in one of two possible states: up or down. From today, we move to the up state with probability $p$ and the down state with probability $(1 - p)$. We'll use this type of model to _predict future interest rates_.\n",
    "* The __Yield curve__ is the time evolution of the interest rates for various maturity Treasury securities. In popular parlance, the yield curve is an _indicator_ computed as the interest rate on long-maturity instruments minus short-maturity instruments. It is used to predict future economic conditions, such as recessions or expansions.\n",
    "\n",
    "Understanding these concepts is critical for predicting potential future economic trends, managing interest rate risk and other types of financial risks, and making informed decisions. So let's go!\n",
    "\n",
    "___"
   ]
  },
  {
   "cell_type": "markdown",
   "id": "ec3b4bf9",
   "metadata": {},
   "source": [
    "## Term Structure of Interest Rates\n",
    "The term structure of interest rates is a fundamental concept in finance that describes the relationship between the interest rates of Treasury securities and their maturities. \n",
    "> __Term structure of interest rates__ is the relationship between the _yields_ on fixed income debt securities of different maturities but similar credit quality, observed at a specific point in time. It typically illustrates how interest rates vary with the length of time until a bond's maturity.\n",
    "\n",
    "In order to dig into the term structure of interest rates, we need to understand a few key concepts:\n",
    "* __Yield__: The yield is the return on an investment, expressed as a percentage of the investment's cost. For bonds, the yield is the interest rate that the bond pays to its holder. There are different types of yields, such as the coupon yield, current yield, and yield to maturity (YTM). The YTM is the most commonly used measure of yield and represents the total return an investor can expect if the bond is held until maturity.\n",
    "* __Spot rate__: The spot rate is the interest rate for a specific maturity, such as 1 year, 5 years, or 10 years. It is the yield on a zero-coupon bond that matures at that specific time. Spot rates are used to discount future cash flows to their present value.\n",
    "* __Forward rate__: The forward rate is the interest rate agreed upon today for a loan that will start at a future date. It is the rate that is expected to prevail in the future for a specific period. Forward rates can be derived from spot rates and are used to predict future interest rates and to manage interest rate risk.\n",
    "\n",
    "Let's dig into these concepts in more detail, starting with the yeild."
   ]
  },
  {
   "cell_type": "markdown",
   "id": "6f4c0272",
   "metadata": {},
   "source": [
    "### Yield\n",
    "The yield is the return on an investment, expressed as a percentage of the investment's cost. Suppose we are look at zero-coupon Treasury securities, which are bonds that do not pay periodic interest but are sold at a discount to their face value. \n",
    "> __Zero coupon securities__: The investment yield on a zero-coupon bond is the difference between the purchase price and the face value, divided by the purchase price, multipled by a factor to annualize the yield.\n",
    "\n",
    "The _annualized investment yield_ of a zero-coupon instrument with maturity $T$ (units: days), face (par) value $V_{P}$, and purchase price $V_{B}$ is given by:\n",
    "$$\n",
    "\\begin{align*}\n",
    "Y(T) &= \\left(\\frac{V_{P} - V_{B}}{V_{B}}\\right) \\times \\left(\\frac{365}{T}\\right)\\\\\n",
    "&= \\underbrace{\\left(\\frac{V_{P}}{V_{B}} - 1\\right)}_{\\text{HPR}} \\times \\underbrace{\\left(\\frac{365}{T}\\right)}_{\\text{annualize}}\\quad\\blacksquare\\\\\n",
    "\\end{align*}\n",
    "$$\n",
    "where $\\text{HPR}$ is the __holding period return__ and the $(365/T)$ term is an __annualization factor__. To better understand the relationship between the yield and the discount rate, we can rewrite the yield as:\n",
    "$$\n",
    "\\begin{align*}\n",
    "Y(T) &= \\left(\\frac{V_{P}}{V_{B}} - 1\\right) \\times \\left(\\frac{365}{T}\\right)\\quad\\Longrightarrow{V_{P}=\\mathcal{D}_{\\star,0}(\\bar{r})\\;V_{B}}\\\\\n",
    "& = \\left(\\mathcal{D}_{\\star,0}(\\bar{r}) - 1\\right)\\times \\left(\\frac{365}{T}\\right)\\\\\n",
    "\\end{align*}\n",
    "$$"
   ]
  },
  {
   "cell_type": "markdown",
   "id": "550ad791",
   "metadata": {},
   "source": [
    "### Spot Rate\n",
    "Fill me in"
   ]
  },
  {
   "cell_type": "markdown",
   "id": "ad5e5c86",
   "metadata": {},
   "source": [
    "### Forward Rate\n",
    "Fill me in"
   ]
  },
  {
   "cell_type": "markdown",
   "id": "1a996200",
   "metadata": {},
   "source": []
  }
 ],
 "metadata": {
  "language_info": {
   "name": "python"
  }
 },
 "nbformat": 4,
 "nbformat_minor": 5
}
