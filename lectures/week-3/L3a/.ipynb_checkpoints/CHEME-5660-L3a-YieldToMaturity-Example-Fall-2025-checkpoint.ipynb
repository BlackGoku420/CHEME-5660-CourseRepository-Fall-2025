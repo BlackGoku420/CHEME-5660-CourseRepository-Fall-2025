{
 "cells": [
  {
   "cell_type": "code",
   "execution_count": null,
   "id": "7c7a73b4-2986-462a-9ce1-3422dc1e195d",
   "metadata": {},
   "outputs": [],
   "source": []
  }
 ],
 "metadata": {
  "kernelspec": {
   "display_name": "Julia 1.11.6",
   "language": "julia",
   "name": "julia-1.11"
  },
  "language_info": {
   "file_extension": ".jl",
   "mimetype": "application/julia",
   "name": "julia",
   "version": "1.11.6"
  }
 },
 "nbformat": 4,
 "nbformat_minor": 5
}
