{
 "cells": [
  {
   "cell_type": "markdown",
   "id": "f282a53a-ef50-4f6e-a47e-5e36e5cd28a3",
   "metadata": {},
   "source": [
    "# L7a: Introduction to Single Index Models (SIMs)\n",
    "In this lecture, we explore Single Index Models (SIMs) in the context of financial markets. SIMs are a simplified approach to modeling the relationship between a security's returns (growth rate) and the returns (growth rate) of a __market index__.\n",
    "\n",
    "By the end of this lecture, you will be able to define and demonstrate mastery of the following key concepts:\n",
    "* __Factor models__ describe the relationship between a security's returns and the returns of a market index, and other factors, such as interest rates, inflation, and economic growth, etc.\n",
    "* __Single Index Models (SIMs)__ are a type of factor model that simplifies the relationship between a security's returns and the returns of a market index by assuming that the security's returns are linearly related to the returns of the market index.\n",
    "* __Estimation and evaluation of SIM parameters__ involves estimating the parameters of the model, such as the alpha and beta coefficients, and evaluating the model's performance using statistical measures such as R-squared, and computing the stylized facts of the model.\n",
    "\n",
    "While seemingly simple, SIMs are widely used in portfolio management and risk assessment, as they provide a straightforward way to understand the relationship between a security's returns and the market index. Further, they are a handy way to address the multiasset problem. So let's get started!\n",
    "___\n"
   ]
  },
  {
   "cell_type": "markdown",
   "id": "bfd217aa-fc94-4758-80b1-8a5d101c83be",
   "metadata": {},
   "source": [
    "## Factor models\n",
    "The idea underlying factor models is that the returns of a security can be explained by the returns of a market index, and other factors, such as interest rates, inflation, and economic growth, etc. \n",
    "\n",
    "Suppose the growth of firm $i$ at time $t$ is denoted by $\\mu^{(t)}_{i}$. We can express the growth of firm $i$ at time $t$ as a linear function of the growth of a market index at time $t$, denoted by $\\mu^{(t)}_{M}$, and other factors, such as interest rates, inflation, and economic growth, etc, which we denotes as $\\left\\{f^{(t)}_{1}, f^{(t)}_{2}, \\ldots, f^{(t)}_{k}\\right\\}$:\n",
    "$$\n",
    "\\mu^{(t)}_{i} = \\alpha_{i} + \\beta_{i}\\mu^{(t)}_{M} + \\sum_{j=1}^{k}\\gamma_{ij}f^{(t)}_{j} + \\epsilon^{(t)}_{i},\n",
    "$$\n",
    "where $\\alpha_{i}$ is the intercept term, $\\beta_{i}$ is the sensitivity of the security's returns to the market index, $\\gamma_{ij}$ is the sensitivity of the security's returns to the $j$-th factor, and $\\epsilon^{(t)}_{i}$ is the error term, which captures the idiosyncratic risk of the security."
   ]
  },
  {
   "cell_type": "markdown",
   "id": "b34938e8",
   "metadata": {},
   "source": [
    "## Single Index Models (SIMs)\n",
    "Single index models are factor models that consider only the return (growth) of the market factor. These models were originaly developed by Sharpe, 1963: [Sharpe, William F. (1963). \"A Simplified Model for Portfolio Analysis\". Management Science, 9(2): 277-293. doi:10.1287/mnsc.9.2.277.](https://pubsonline.informs.org/doi/abs/10.1287/mnsc.9.2.277)\n",
    "\n",
    "Suppose the growth of firm $i$ at time $t$ is denoted by $\\mu^{(t)}_{i}$. Then, the single index model of the return (growth rate) is given by:\n",
    "$$\n",
    "\\mu^{(t)}_{i} = \\alpha_{i} + \\beta_{i}\\;\\mu^{(t)}_{M} + \\epsilon^{(t)}_{i},\n",
    "$$\n",
    "where $\\alpha_{i}$ is the _idosyncratic (firm-specific) growth_, $\\beta_{i}$ is the component of the growth rate of firm $i$ explained by the market (it is also a measure of risk), and $\\epsilon^{(t)}_{i}$ denotes an error model associated with firm $i$ (describes growth rate not captured by the firm or market factors). \n",
    "\n",
    "> __Hmmm: Return versus Growth?__\n",
    ">\n",
    "> Sharpe's original model used the return, and not the growth rate. What is the connection between the two models? Let's start from the original return model, and show how it relates to the growth model. The original model is given by:\n",
    "> $$\n",
    "> \\begin{align*}\n",
    "> r^{(t)}_{i} &= \\alpha_{i} + \\beta_{i}\\;r^{(t)}_{M} + \\epsilon^{(t)}_{i}\\\\\n",
    "> \\end{align*}\n",
    "> $$\n",
    "> where $r^{(t)}_{i}$ is the return of firm $i$ at time $t$, $r^{(t)}_{M}$ is the return of the market index at time $t$, $\\alpha_{i}$ is the idiosyncratic return of firm $i$, $\\beta_{i}$ is the sensitivity of the return of firm $i$ to the return of the market index, and $\\epsilon^{(t)}_{i}$ is the error model associated with firm $i$.\n",
    "> However, we know that the growth rate are the return are related:  $r^{(t)}_{i} = \\mu^{(t)}_{i}\\;\\Delta{t}$. Thus, we can rewrite the original model as:\n",
    "> $$\n",
    "> \\begin{align*}\n",
    "> \\overbrace{\\mu^{(t)}_{i}\\;\\Delta{t}}^{r^{(t)}_{i}} &= \\bar{\\alpha}_{i} + \\bar{\\beta}_{i}\\;(\\overbrace{\\mu^{(t)}_{M}\\;\\Delta{t}}^{r^{(t)}_{M}}) + \\bar{\\epsilon}^{(t)}_{i}\\quad\\Longrightarrow\\text{Divide by }\\;\\Delta{t}\\\\\n",
    "> \\mu^{(t)}_{i} &= \\underbrace{\\frac{\\bar{\\alpha}_{i}}{\\Delta{t}}}_{\\alpha_{i}} + {\\bar{\\beta}_{i}}\\;\\mu^{(t)}_{M} + \\underbrace{\\frac{\\bar{\\epsilon}^{(t)}_{i}}{\\Delta{t}}}_{\\epsilon^{(t)}_{i}}\\\\\n",
    "\\mu^{(t)}_{i} &= \\alpha_{i} + \\bar{\\beta_{i}}\\;\\mu^{(t)}_{M} + \\epsilon^{(t)}_{i}\\\\\n",
    "> \\end{align*}\n",
    "> $$\n",
    "> Thus, the two models have the same form, but the $\\alpha_{i}$ parameter, and the error models are divided by the time step $\\Delta{t}$. Lastly, in practice, we drop the overbar on $\\beta_{i}$, which gives the growth rate SIM:\n",
    "> $$\n",
    "> \\boxed{\n",
    "> \\mu^{(t)}_{i} = \\alpha_{i} + \\beta_{i}\\;\\mu^{(t)}_{M} + \\epsilon^{(t)}_{i}\\quad\\blacksquare\n",
    ">}\n",
    "> $$\n",
    "> By default, we'll use the growth model, but you should be aware of the original return model, and how it relates to the growth model.\n",
    "\n",
    "### What do the $(\\alpha_{i}, \\beta_{i})$ parameters mean?\n",
    "The parameters of the single index model have some interesting interpretations.\n",
    "\n",
    "* The $\\alpha_{i}$ parameter is the idiosyncratic (firm-specific) growth, which captures the growth rate of firm $i$ that is __not__ explained by the market index. \n",
    "* The $\\beta_{i}$ parameter has two meanings: it is a measure of the the growth rate of firm $i$ explained by the market index, and it is also a measure of risk. A higher $\\beta_{i}$ indicates that the growth rate of firm $i$ is more sensitive to changes in the market index, and thus, it is more risky. \n",
    "\n",
    "Let's dig into the meaning of the $\\beta_{i}$ parameter a little more, starting with the growth interpretation. We can rearrance the SIM as:\n",
    "$$\n",
    "\\begin{align*}\n",
    "\\mu^{(t)}_{i} &= \\alpha_{i} + \\beta_{i}\\;\\mu^{(t)}_{M} + \\epsilon^{(t)}_{i}\\\\\n",
    "\\mu^{(t)}_{i} - \\alpha_{i} - \\epsilon^{(t)}_{i} &= \\beta_{i}\\;\\mu^{(t)}_{M}\\\\\n",
    "\\underbrace{\\frac{\\mu^{(t)}_{i} - \\alpha_{i} - \\epsilon^{(t)}_{i}}{\\mu^{(t)}_{M}}}_{\\text{fraction explained by market}} &= \\beta_{i}\\quad\\blacksquare\\\\\n",
    "\\end{align*}\n",
    "$$\n",
    "The risk interpretation is a little more subtle. \n",
    "\n"
   ]
  },
  {
   "cell_type": "markdown",
   "id": "623bd1ba",
   "metadata": {},
   "source": [
    "## Estimation of SIM parameters\n",
    "Fill me in."
   ]
  },
  {
   "cell_type": "markdown",
   "id": "6f8ae3f2",
   "metadata": {},
   "source": [
    "## Evaluation of SIM performance\n",
    "Fill me in."
   ]
  },
  {
   "cell_type": "markdown",
   "id": "38f635b1",
   "metadata": {},
   "source": [
    "## Disclaimer and Risks\n",
    "__This content is offered solely for training and informational purposes__. No offer or solicitation to buy or sell securities or derivative products or any investment or trading advice or strategy is made, given, or endorsed by the teaching team. \n",
    "\n",
    "__Trading involves risk__. Carefully review your financial situation before investing in securities, futures contracts, options, or commodity interests. Past performance, whether actual or indicated by historical tests of strategies, is no guarantee of future performance or success. Trading is generally inappropriate for someone with limited resources, investment or trading experience, or a low-risk tolerance.  Only risk capital that is not required for living expenses.\n",
    "\n",
    "__You are fully responsible for any investment or trading decisions you make__. Such decisions should be based solely on evaluating your financial circumstances, investment or trading objectives, risk tolerance, and liquidity needs.\n",
    "\n",
    "___"
   ]
  },
  {
   "cell_type": "markdown",
   "id": "faf24f96",
   "metadata": {},
   "source": []
  }
 ],
 "metadata": {
  "kernelspec": {
   "display_name": "Julia 1.11.5",
   "language": "julia",
   "name": "julia-1.11"
  },
  "language_info": {
   "file_extension": ".jl",
   "mimetype": "application/julia",
   "name": "julia",
   "version": "1.11.5"
  }
 },
 "nbformat": 4,
 "nbformat_minor": 5
}
