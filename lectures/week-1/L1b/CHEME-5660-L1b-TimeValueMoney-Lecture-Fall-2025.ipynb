{
 "cells": [
  {
   "cell_type": "markdown",
   "id": "5fba4f2a",
   "metadata": {},
   "source": [
    "# L1b: Introduction to the Time Value of Money, Abstract Assets and the Net Present Value\n",
    "Today, we’ll introduce the concepts of _Abstract Assets_ and the _Time Value of Money_ in the lecture. The key concepts that students should be able to define and demonstrate from this lecture are:\n",
    "* __Time value of money__: The time value of money is the change in buying power over time. Money, and more specifically, its value or buying power, is not conserved like mass, momentum, or energy. The change (more often than not decrease) is called the Time Value of Money (TVM). How do we capture this change? We can use the concept of _discounting_ to capture the change in value over time.\n",
    "* __Abstract Asset__: An abstract asset is a series of current and future cash flows. This framework can model the value of everything you consider an asset, such as cash, stocks, and bonds, or physical assets, such as a car or house. \n",
    "\n",
    "Lecture notes can be found: [here!](https://github.com/varnerlab/CHEME-5820-Lectures-Spring-2025/blob/main/lectures/week-2/L2a/docs/Notes.pdf)\n",
    "\n",
    "___"
   ]
  },
  {
   "cell_type": "markdown",
   "id": "c2a73bbe",
   "metadata": {},
   "source": [
    "## Time Value of Money\n",
    "The time value of money is the principle that a dollar today has greater purchasing power than the same dollar received in the future because it can be invested to earn interest in a risk-free environment. This principle is fundamental in finance and economics, as it affects how we value cash flows over time.\n",
    "\n",
    "### Present and Future Value\n",
    "Suppose $P$ dollars were invested today in an asset with a _return_ of $r\\geq{0}$, then after one investment period, we will have $F$ dollars:  \n",
    "$$\n",
    "\\begin{align*}\n",
    "F = \\underbrace{(1+r)}_{=\\,\\mathcal{D}(r)}\\cdot{P}\n",
    "\\end{align*}\n",
    "$$\n",
    "where $r$ is called the _fractional rate of return_. However, $r$ has other names, e.g., the discount rate, the interest rate, the weighted average cost of capital, etc (what $r$ is called depends upon the context we are exploring). \n",
    "\n",
    "The right-hand side $P$ is the present value (PV) (value of the investment today), while the left-hand side $F$ is the investment's future value (FV). The connection between the present and future value is made through the _discount factor_ $\\mathcal{D}(r) = (1+r)$. \n",
    "* _Discount factor_: The present value $P$ and the future value $F$ are related through the compounding (discount) factor $\\mathcal{D}(r) = (1+r)$. Different models exist for $\\mathcal{D}(\\cdot)$, e.g., discrete or continuous, single or multiple step discount factors, etc.\n",
    "* _What is r_?: The value of the fractional rate of return $r$, and the probability of achieving that level of return varies with investment type. \n",
    "\n",
    "_Hmmmm. Let's dig a little deeper:_ The fractional rate of return $r$ has many names, it is often called the discount rate, the interest rate, etc. It is the rate at which future cash flows are discounted to obtain their present value. The choice of $r$ can significantly affect the valuation of an asset."
   ]
  },
  {
   "cell_type": "markdown",
   "id": "ceb124b0",
   "metadata": {},
   "source": [
    "### Discrete Compounding and the Multiple Period Discount Factor\n",
    "When we have multiple investment periods (also called compounding events), we can extend the present and future value relationship to multiple periods. \n",
    "* Discrete compounding events are predetermined, periodic intervals (e.g., monthly, quarterly, annually) at which all accrued interest is fully reinvested—added to the principal—thereby increasing the base on which future interest is calculated. \n",
    "* What if there is no reinvestment? If there’s no reinvestment—as in a typical annuity—each interest payment is paid out rather than added to the principal, so the principal remains constant and interest accrues only on that original amount (i.e., simple interest), and the annuity’s present value is simply the sum of each payment discounted individually.\n",
    "\n",
    "#### Multiple Period Discount Factor\n",
    "Assume discrete compounding and one compounding event per period. Let $\\dot{c}_{j}$ denote cash flow events in period(s) $j = 0,1,2,\\dots$ and $r_{j+1,j}\\geq{0}$ denote the discount rate between periods $j\\rightarrow{(j+1)}$.\n",
    "Then, by induction, cash flow events are related by the expression\n",
    "$$\n",
    "\\begin{align*}\n",
    "\\dot{c}_{k} = \\underbrace{\\left[\\prod_{j=0}^{k-1}\\left(1+r_{j+1,j}\\right)\\right]}_{\\mathcal{D}_{k,0}(r)}\\cdot\\dot{c}_{0}\\qquad{k=0,1,2,\\dots}\n",
    "\\end{align*}\n",
    "$$\n",
    "where $\\dot{c}_{0}$ is the cash flow event in period $j=0$ (now, the present value) and $\\dot{c}_{k}$ is the cash flow event in period $j=k$ (the future value). The product term is the _multi-period discrete discount factor_ or $\\mathcal{D}_{k,0}(r)\\geq{1}$.\n",
    "* For $k=0$ (now): The present and future value are equal which means that $\\mathcal{D}_{0,0}(r) = 1$. For $k\\geq{1}$ (future): The discount factor $\\mathcal{D}_{k,0}(r)>{1}$ for positive discount rates $r_{j+1,j}>0$.\n",
    "\n",
    "For the special case when the discount rate is constant $\\bar{r}\\equiv{r_{j+1,j}},\\forall{j}$, the discere multistep discount factor\n",
    "    is given by $\\mathcal{D}_{k,0}(\\bar{r}) = \\left(1+\\bar{r}\\right)^k$."
   ]
  },
  {
   "cell_type": "markdown",
   "id": "d9a53ef4",
   "metadata": {},
   "source": [
    "### Continuous Discounting\n",
    "Continuous compounding assumes that we have an infinite number of compounding events per period. Suppose we have a constant annualized discount rate $\\bar{r}\\geq{0}$ and $n$ compounding events yearly. Then, the discrete \n",
    "multistep discount factor for $k\\geq{0}$ periods is given by:\n",
    "$$\n",
    "\\begin{align*}\n",
    "\\mathcal{D}_{k,0}(\\bar{r}) = (1+\\bar{r}/n)^{k\\cdot{n}}\n",
    "\\end{align*}\n",
    "$$\n",
    "However, suppose $n\\rightarrow\\infty$, i.e., we move to continuous compounding (compounding events at every instant).\n",
    "Then, the discount factor $\\mathcal{D}_{k,0}(\\bar{r})$ becomes the continuous discount factor:\n",
    "$$\n",
    "\\begin{align*}\n",
    "    \\lim\\limits_{n\\rightarrow\\infty}\\mathcal{D}_{k,0}(\\bar{r}) = \\exp\\left(r\\cdot{k}\\right)\n",
    "\\end{align*}\n",
    "$$\n",
    "where $\\exp(\\cdot)$ is the exponential function. The continuous discount factor is denoted as $\\mathcal{D}_{k,0}(\\bar{r}) = \\exp\\left(\\bar{r}\\cdot{k}\\right)$.\n",
    "* For $k=0$: The continuous discount factor, consistent with its discrete analog, is given by $\\mathcal{D}_{0,0}(\\bar{r}) = 1$.\n",
    "For $k>0$: The continuous discount factor, consistent with its discrete analog, is given by $\\mathcal{D}_{k,0}(\\bar{r}) > 1$.\n",
    "Continuous discount factors are used for equity and derivatives, while discrete discounting is used for Treasury securities."
   ]
  },
  {
   "cell_type": "markdown",
   "id": "8c6a826f",
   "metadata": {},
   "source": [
    "## Who sets the Discount Rate?\n",
    "The discount rate is not a fixed value; it is determined by the market, by the industry, etc. Thus, an entirely unsatifying answer to the questions is \"it depends.\" However, let's dig a little deeper.\n",
    "\n",
    "### The Federal Reserve\n",
    "The United States Federal Reserve, created by the [Federal Reserve Act of 1913](https://www.federalreserve.gov/aboutthefed/fract.htm), is the nation’s central banking system, comprising a Board of Governors in Washington, D.C., and twelve regional Federal Reserve Banks. \n",
    "* _What does the Federal Reserve do?_ It conducts monetary policy—via tools such as open market operations, the discount rate, and reserve requirements—to promote maximum employment, stable prices, and moderate long-term interest rates, while also supervising banks and serving as the lender of last resort.\n",
    "* Federal Open Market Committee (FOMC) is the body responsible for setting the federal funds rate, the interest rate at which banks can borrow from the Federal Reserve. The FOMC meets regularly to assess economic conditions and adjust the federal funds rate as needed to achieve its monetary policy goals. [Let's watch a video where we'll meet Susan and Ronnie from the Federal Reserve!](https://youtu.be/xHQJBNO0yQc)"
   ]
  },
  {
   "cell_type": "markdown",
   "id": "2c0b2a48",
   "metadata": {},
   "source": [
    "## Abstract Assets\n",
    "An abstract asset is a sequence of current and future cash flows demarcated in a currency, for example, Euros, Dollars, Yuan, or cryptocurrencies such as Bitcoin.\n",
    "\n",
    "* An abstract asset is a useful mental model for describing a process, product, or investment. However, there is a catch: money today is not worth the same as money tomorrow (purchasing power is not conserved)"
   ]
  },
  {
   "cell_type": "markdown",
   "id": "89149bdf",
   "metadata": {},
   "source": [
    "<img\n",
    "  src=\"figs/Fig-L1b-SchematicAbstractAsset.svg\"\n",
    "  alt=\"triangle with all three sides equal\"\n",
    "  height=\"400\"\n",
    "  width=\"800\" />"
   ]
  },
  {
   "cell_type": "markdown",
   "id": "136c00fa-b33d-4ed4-b296-f68108afcb6c",
   "metadata": {},
   "source": [
    "## Disclaimer and Risks\n",
    "__This content is offered solely for training and informational purposes__. No offer or solicitation to buy or sell securities or derivative products or any investment or trading advice or strategy is made, given, or endorsed by the teaching team. \n",
    "\n",
    "__Trading involves risk__. Carefully review your financial situation before investing in securities, futures contracts, options, or commodity interests. Past performance, whether actual or indicated by historical tests of strategies, is no guarantee of future performance or success. Trading is generally inappropriate for someone with limited resources, investment or trading experience, or a low-risk tolerance.  Only risk capital that is not required for living expenses.\n",
    "\n",
    "__You are fully responsible for any investment or trading decisions you make__. Such decisions should be based solely on evaluating your financial circumstances, investment or trading objectives, risk tolerance, and liquidity needs."
   ]
  }
 ],
 "metadata": {
  "kernelspec": {
   "display_name": "Julia 1.11.5",
   "language": "julia",
   "name": "julia-1.11"
  },
  "language_info": {
   "file_extension": ".jl",
   "mimetype": "application/julia",
   "name": "julia",
   "version": "1.11.5"
  }
 },
 "nbformat": 4,
 "nbformat_minor": 5
}
