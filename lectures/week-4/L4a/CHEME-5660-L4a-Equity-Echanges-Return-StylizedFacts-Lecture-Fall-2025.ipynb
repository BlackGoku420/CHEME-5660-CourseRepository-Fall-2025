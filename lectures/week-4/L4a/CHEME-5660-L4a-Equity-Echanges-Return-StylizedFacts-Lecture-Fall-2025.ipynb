{
 "cells": [
  {
   "cell_type": "markdown",
   "id": "340fe81b",
   "metadata": {},
   "source": [
    "# L4a: Equity Exchanges, Return, and Stylized Facts\n",
    "Today, we will introduce our next asset class: __equity securities__. Equity securities (stock and Exchange Traded Funds - ETFs) are traded on exchanges (secondary markets) with several players and components. We’ll also introduce the log return and explore its stylized facts (statistical properties).\n",
    "\n",
    "By the end of this lecture, you will be able to define and demonstrate mastery of the following key concepts:\n",
    "\n",
    "* __Equity securities__ represent ownership in a corporation, entitling shareholders to a portion of the company's profits and assets, with the potential for capital gains and voting rights, while exposing them to the risks associated with the company's performance.\n",
    "* The __log return__ of a stock price is defined as the natural logarithm of the ratio of the stock's price at the end of a period to its price at the beginning of that period, providing a measure of continuously compounded returns that can be easily aggregated over time\n",
    "* __Stylized facts__ refer to empirical statistical properties of asset returns across various financial markets, such as heavy tails, volatility clustering, and the lack of autocorrelation. These serve as essential guidelines for developing and validating financial models.\n",
    "\n",
    "Equity securities are what everyone thinks of when they think of the stock market. They have a higher-risk reward profile than fixed income securities, such as bonds. Thus, there is lot of interest in understanding in the _uncertainty_ of equity price. This is a cool topic area, so let's get started!\n",
    "___"
   ]
  },
  {
   "cell_type": "markdown",
   "id": "7c13caa4",
   "metadata": {},
   "source": [
    "<div>\n",
    "    <center>\n",
    "        <img src=\"figs/Fig-RiskReward-Asset-Schematic.svg\" width=\"800\"/>\n",
    "    </center>\n",
    "</div>"
   ]
  },
  {
   "cell_type": "markdown",
   "id": "c54ba5f5",
   "metadata": {},
   "source": [
    "## Stock, Exchanges, and ETFs\n",
    "Fill me in."
   ]
  },
  {
   "cell_type": "markdown",
   "id": "131c3f07",
   "metadata": {},
   "source": [
    "## Risk and Reward\n",
    "Fill me in."
   ]
  },
  {
   "cell_type": "markdown",
   "id": "1ad9afb3",
   "metadata": {},
   "source": [
    "## Stylized Facts of Equity Returns\n",
    "Analysts and investors gain insights into market behavior, risk, and investment opportunities by examining returns and their properties (stylized facts). While several stylized facts have been developed, let’s consider the following:\n",
    "\n",
    "* __Heavy (also called fat) tails__: Stock returns often exhibit a distribution with fatter tails than would be expected under a normal distribution. This means that extreme price movements are more likely than would be predicted by a normal distribution.\n",
    "* __Absence of Autocorrelation__: Autocorrelation refers to the tendency of stock returns to correlate with past returns over time. Autocorrelation suggests predictability in returns, which traders could exploit. On the other hand, a random walk is uncorrelated with itself. We expect a random walk with occasional jumps.\n",
    "* __Volatility clustering__: Stock returns tend to be more volatile during specific periods and less volatile during others. This phenomenon is known as volatility clustering, suggesting that large price movements are more likely to be followed by other large moves, and other small moves follow small moves.\n",
    "\n",
    "\n",
    "#### Example calculation\n",
    "Let's compute the return (growth rate) for some typical stocks and ETFs, look at the stylized facts, and think about what these statistical properties are telling us about the uncertainty of equity prices.\n",
    "> [▶ Computing the Stylized Facts of Common Stocks and ETFs](./CHEME-5660-L4a-StylizedFacts-Example-Fall-2025.ipynb). In this example, we will compute the stylized facts of common stocks and ETFs, such as the S&P 500 ETF (SPY), the NASDAQ 100 ETF (QQQ). We'll use data from the past 10 years to compute the log returns and analyze their statistical properties.\n",
    "\n",
    "___"
   ]
  },
  {
   "cell_type": "markdown",
   "id": "308adc83",
   "metadata": {},
   "source": [
    "## Disclaimer and Risks\n",
    "__This content is offered solely for training and informational purposes__. No offer or solicitation to buy or sell securities or derivative products or any investment or trading advice or strategy is made, given, or endorsed by the teaching team. \n",
    "\n",
    "__Trading involves risk__. Carefully review your financial situation before investing in securities, futures contracts, options, or commodity interests. Past performance, whether actual or indicated by historical tests of strategies, is no guarantee of future performance or success. Trading is generally inappropriate for someone with limited resources, investment or trading experience, or a low-risk tolerance.  Only risk capital that is not required for living expenses.\n",
    "\n",
    "__You are fully responsible for any investment or trading decisions you make__. Such decisions should be based solely on evaluating your financial circumstances, investment or trading objectives, risk tolerance, and liquidity needs.\n",
    "\n",
    "___"
   ]
  }
 ],
 "metadata": {
  "language_info": {
   "name": "python"
  }
 },
 "nbformat": 4,
 "nbformat_minor": 5
}
