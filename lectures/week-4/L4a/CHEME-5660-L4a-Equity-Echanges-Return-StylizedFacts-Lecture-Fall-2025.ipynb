{
 "cells": [
  {
   "cell_type": "markdown",
   "id": "340fe81b",
   "metadata": {},
   "source": [
    "# L4a: Equity Exchanges, Return, and Stylized Facts\n",
    "Today, we will introduce our next asset class: __equity securities__. Equity securities (stock and Exchange Traded Funds - ETFs) are traded on exchanges (secondary markets) with several players and components. We’ll also introduce the log return and explore its stylized facts (statistical properties).\n",
    "\n",
    "By the end of this lecture, you will be able to define and demonstrate mastery of the following key concepts:\n",
    "\n",
    "* __Equity securities__ represent ownership in a corporation, entitling shareholders to a portion of the company's profits and assets, with the potential for capital gains and voting rights, while exposing them to the risks associated with the company's performance.\n",
    "* The __log return__ of a stock price is defined as the natural logarithm of the ratio of the stock's price at the end of a period to its price at the beginning of that period, providing a measure of continuously compounded returns that can be easily aggregated over time\n",
    "* __Stylized facts__ refer to empirical statistical properties of asset returns across various financial markets, such as heavy tails, volatility clustering, and the lack of autocorrelation. These serve as essential guidelines for developing and validating financial models.\n",
    "\n",
    "Equity securities are what everyone thinks of when they think of the stock market. They have a higher-risk reward profile than fixed income securities, such as bonds. Thus, there is lot of interest in understanding in the _uncertainty_ of equity price. This is a cool topic area, so let's get started!\n",
    "___"
   ]
  },
  {
   "cell_type": "markdown",
   "id": "7c13caa4",
   "metadata": {},
   "source": [
    "<div>\n",
    "    <center>\n",
    "        <img src=\"figs/Fig-RiskReward-Asset-Schematic.svg\" width=\"800\"/>\n",
    "    </center>\n",
    "</div>"
   ]
  },
  {
   "cell_type": "markdown",
   "id": "c54ba5f5",
   "metadata": {},
   "source": [
    "## Stock, Exchanges, and ETFs\n",
    "Fill me in."
   ]
  },
  {
   "cell_type": "markdown",
   "id": "131c3f07",
   "metadata": {},
   "source": [
    "## Risk and Reward\n",
    "At the core of every investment is the trade-off between risk and reward. \n",
    "> __Universal Principle:__ The higher the risk, the higher the potential reward, but also the higher the potential loss. This is often visualized in a risk-reward spectrum, where equities typically fall on the higher end due to their volatility and potential for significant returns. But how do we measure this risk and reward in practice?\n",
    "\n",
    "### Continuously Compounded Growth Rate (CCGR) and Return\n",
    "We measure the reward of an investment using a concept called __return__. We are going to use a slight variation of the log return called the __continuously compounded growth rate__ (CCGR). Let's dig into this concept.\n",
    "\n",
    "Suppose the share price of a stock at time $t$ (e.g., today) is $S_t$ (units: USD/share). In the next time period $t + 1$ (e.g., tomorrow) the share price is given by: $S_{t+1} = S_t \\cdot \\mathcal{D}_{t+1,t}(\\mu\\;\\Delta{t})$ where $\\mathcal{D}_{t+1,t}(\\mu\\;\\Delta{t})$ is the discount factor between the time period $\\Delta{t} = t_{t+1} - t$ (units: years) and $\\mu$ is the continuously compounded growth rate (CCGR) of the stock price (units: inverse years), and $\\mu\\Delta{t}$ is the __return__ of the stock price over the time period $\\Delta{t}$ (units: dimensionless).\n",
    "\n",
    "> __Why do we use the continuous growth rate?__ The continuously compounded growth rate (CCGR) is a useful measure because it is annualized, making it easier to compare across different time periods and investments. Further, using continuous compounding allows for the aggregation of returns over multiple periods, which is essential for understanding long-term investment performance.\n",
    "\n",
    "> __Why not the return?__ The rest of the universe uses the log return. However, we will __not__ use the log return here because it is not by default annualized, i.e., it is written with respect to a particular time period, e.g., minute, days, week, etc, which makes it difficult to compare across different time periods and investments. This is our choice for this course, but you can use the log return if you want to.\n",
    "\n",
    "We can estimate the growth rate $\\mu$ (and a closely related quantity called the excess growth rate, or $\\bar{\\mu}$) from the stock price at time $t$ and $t + 1$:\n",
    "$$\n",
    "\\begin{align*}\n",
    "S_{t+1} &= S_t \\cdot e^{\\mu\\Delta{t}}\\quad\\Longrightarrow\\text{solve for}\\;\\mu\\\\\n",
    "\\underbrace{\\mu}_{\\text{growth}} &= \\left(\\frac{1}{\\Delta{t}}\\right)\\ln\\left(\\frac{S_{t+1}}{S_t}\\right)\\quad\\Longrightarrow\\text{Subtract risk-free rate}\\; \\bar{r} \\\\\n",
    "\\mu - \\bar{r} &= \\left(\\frac{1}{\\Delta{t}}\\right)\\ln\\left(\\frac{S_{t+1}}{S_t}\\right) - \\bar{r} \\\\\n",
    "\\bar{\\mu} &= \\underbrace{\\left(\\frac{1}{\\Delta{t}}\\right)\\ln\\left(\\frac{S_{t+1}}{S_t}\\right) - \\bar{r}}_{\\text{excess growth rate}}\\quad\\blacksquare \\\\\n",
    "\\end{align*}\n",
    "$$\n",
    "The quantity $\\bar{\\mu}$ is the continuously compounded excess growth rate (CCEGR) of the stock price, while $\\bar{r}$ is a (hypothetical) continously compounded risk-free rate (units: inverse years). The risk-free rate is the return on a risk-free asset, such as a zero-coupon Treasury Bill, under a continuous compounding assumption. \n",
    "\n",
    "Before we look at how we can estimate the continuously compounded (excess) growth rate, let's think about a few of its properties.\n",
    "\n",
    "> __Example__\n",
    ">\n",
    "> Suppose we invested 100 USD in a stock with share price $S_{\\circ}$ USD/share and held it for one year (i.e., $\\Delta{t} = 1$). Alternatively, we could have invested the same amount (e.g., 100 USD) in a (hypothetical) continously compounding zero-coupon risk-free asset with a discount rate of $\\bar{r}$. At the end of the year, the share price of the stock is $S_1$ USD/share.\n",
    ">\n",
    "> * If $\\bar{\\mu} > 0$, then the capital gain from the stock price (i.e., the increase of the stock price) is greater than what would have been returned if we had invested in Zero-coupon risk-free asset held for the same time period.\n",
    "> * If $\\bar{\\mu} < 0$, then the capital change from the stock price is less than what would have been gained if we had invested in Zero-coupon risk-free asset held for the same time period.\n",
    "> * If $\\bar{\\mu} = 0$, then the capital change from the stock price is equal to what would have been gained if we had invested in Zero-coupon risk-free asset held for the same time period.\n",
    ">\n",
    "> Thus, the continuously compounded excess growth rate $\\bar{\\mu}$ is a measure of the stock price's performance relative to _benchmark_ risk-free investment over the same time period.\n",
    "\n",
    "Of course we could also consider the growth rate directly, i.e., $\\mu$ (not the excess growth rate $\\bar{\\mu}$). The only difference is that the growth rate $\\mu$ is not adjusted for the risk-free rate, i.e., it does not consider the opportunity cost of investing in a risk-free asset. If $\\mu>0$ the stock price increased in $\\Delta{t}$, if $\\mu<0$ the stock price decreased in $\\Delta{t}$, and if $\\mu=0$ the stock price did not change in $\\Delta{t}$."
   ]
  },
  {
   "cell_type": "markdown",
   "id": "1ad9afb3",
   "metadata": {},
   "source": [
    "## Stylized Facts of Equity Returns\n",
    "Analysts and investors gain insights into market behavior, risk, and investment opportunities by examining returns and their properties (stylized facts). While several stylized facts have been developed, let’s consider the following:\n",
    "\n",
    "* __Heavy (also called fat) tailed distribution__: Stock returns often exhibit a distribution with fatter tails than would be expected under a normal distribution. This means that extreme price movements are more likely than would be predicted by a normal distribution.\n",
    "* __Absence of Autocorrelation__: Autocorrelation refers to the tendency of stock returns to correlate with past returns over time. Autocorrelation suggests predictability in returns, which traders could exploit. On the other hand, a random walk is uncorrelated with itself. We expect a random walk with occasional jumps.\n",
    "* __Volatility clustering__: Stock returns tend to be more volatile during specific periods and less volatile during others. This phenomenon is known as volatility clustering, suggesting that large price movements are more likely to be followed by other large moves, and other small moves follow small moves.\n",
    "\n",
    "### Heavy Tailed Distribution\n",
    "Fill me in.\n",
    "\n",
    "### Autocorrelation\n",
    "Autocorrelation is a key concept in time series analysis, particularly in the context of financial returns. It measures the correlation of a time series with its own past values. In the case of stock returns, if there is significant autocorrelation, it implies that past returns can help predict future returns. This predictability can be exploited by traders and investors.\n",
    "\n",
    "However, the absence of autocorrelation is a common finding in financial markets, supporting the random walk hypothesis. This hypothesis suggests that stock prices follow a random path and are not influenced by past prices. In practice, this means that price movements are largely unpredictable, and any apparent patterns are likely to be the result of noise rather than true signals.\n",
    "\n",
    "Understanding autocorrelation is crucial for developing trading strategies and risk management practices. By analyzing the autocorrelation structure of stock returns, investors can gain insights into market behavior and make more informed decisions.\n",
    "\n",
    "### Volatility Clustering\n",
    "Fill me in.\n",
    "\n",
    "### Example calculation\n",
    "Let's compute the return (growth rate) for some typical stocks and ETFs, look at the stylized facts, and think about what these statistical properties are telling us about the uncertainty of equity prices.\n",
    "> [▶ Computing the Stylized Facts of Common Stocks and ETFs](./CHEME-5660-L4a-StylizedFacts-Example-Fall-2025.ipynb). In this example, we will compute the stylized facts of common stocks and ETFs, such as the S&P 500 ETF (SPY), the NASDAQ 100 ETF (QQQ). We'll use data from the past 10 years to compute the log returns and analyze their statistical properties.\n",
    "\n",
    "___"
   ]
  },
  {
   "cell_type": "markdown",
   "id": "308adc83",
   "metadata": {},
   "source": [
    "## Disclaimer and Risks\n",
    "__This content is offered solely for training and informational purposes__. No offer or solicitation to buy or sell securities or derivative products or any investment or trading advice or strategy is made, given, or endorsed by the teaching team. \n",
    "\n",
    "__Trading involves risk__. Carefully review your financial situation before investing in securities, futures contracts, options, or commodity interests. Past performance, whether actual or indicated by historical tests of strategies, is no guarantee of future performance or success. Trading is generally inappropriate for someone with limited resources, investment or trading experience, or a low-risk tolerance.  Only risk capital that is not required for living expenses.\n",
    "\n",
    "__You are fully responsible for any investment or trading decisions you make__. Such decisions should be based solely on evaluating your financial circumstances, investment or trading objectives, risk tolerance, and liquidity needs.\n",
    "\n",
    "___"
   ]
  }
 ],
 "metadata": {
  "language_info": {
   "name": "python"
  }
 },
 "nbformat": 4,
 "nbformat_minor": 5
}
