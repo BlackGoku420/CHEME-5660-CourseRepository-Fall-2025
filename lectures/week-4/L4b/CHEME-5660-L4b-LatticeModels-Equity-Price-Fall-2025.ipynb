{
 "cells": [
  {
   "cell_type": "markdown",
   "id": "1bae098f",
   "metadata": {},
   "source": [
    "# L4b: Lattice Models for Equity Pricing\n",
    "Today, we will introduce lattice models of equity share prices. We’ll estimate the lattice parameters using data-driven and model-driven approaches. Finally, we explore whether a lattice model shows any of the stylized facts we find in market observations. \n",
    "\n",
    "By the end of this lecture, you will be able to define and demonstrate mastery of the following key concepts:\n",
    "\n",
    "* A __binomial lattice model__ assumes that tomorrow exists in one of two possible states: up or down. From today, we move to the up-state with probability p and the down-state with probability (1 - p).\n",
    "* __Lattice model parameters__: There are two possible approaches for the lattice parameters. A real-world probability approach assumes we estimate parameters from data. A risk-neutral probability approach assumes a particular model for the lattice parameters.\n",
    "* __Stylized facts__: Stylized facts refer to empirical statistical properties of asset returns across various financial markets, such as heavy tails, volatility clustering, and the lack of autocorrelation. These serve as essential guidelines for developing and validating financial models.\n",
    "\n",
    "While lattice models are not the most sophisticated models available, they are easy to understand and implement, and are suprisingly effective in capturing the essential features of equity share prices. So, let's get started!\n",
    "\n",
    "___"
   ]
  },
  {
   "cell_type": "markdown",
   "id": "620c6ccc",
   "metadata": {},
   "source": [
    "<div>\n",
    "    <center>\n",
    "        <img src=\"figs/Fig-Lattice-Schematic.svg\" width=\"800\"/>\n",
    "    </center>\n",
    "</div>"
   ]
  },
  {
   "cell_type": "markdown",
   "id": "55ab2985",
   "metadata": {},
   "source": [
    "## Bionomial Lattice Model\n",
    "A binomial lattice model is a discrete-time model used to represent the evolution of an asset's price over time. \n",
    "> __Binomial Lattice Model__: A binomial lattice model assumes that at each time step, the asset can either move up by a factor $u$ with a probability $p$ or down by a factor $d$ with probability $(1-p)$, creating a tree-like structure of possible future prices. At time $t\\geq{0}$ there will be $t+1$ possible prices. \n",
    "\n",
    "> __Key assumptions__: The probaility $p$, and the up and down factors are independent of the time step $t$, i.e., these parameters are constant across the lattice. The up, down and probability parameters are specific to each firm.\n",
    "\n",
    "Suppose we have a stock with an initial price $S_0$ at time $t=0$ (today). Assuming a binomial lattice model, at $t = 1$ (tomorrow), the stock can occupy the up state with a price $S^{(+)}_{1} = S_{0}\\;u$ with probability $p$ or the down state with price $S^{(-)}_{1} = S_{0}\\;d$ with probability $(1-p)$. The process continues for $n$ time steps, creating a binomial tree of possible prices.\n",
    "\n",
    "Future prices at time $t = 1$ can be expressed as:\n",
    "$$\n",
    "S_{1} = \\begin{cases}\n",
    "S^{(+)}_{1} = S_{0}\\;u & \\text{with probability } p \\\\\n",
    "S^{(-)}_{1} = S_{0}\\;d & \\text{with probability } (1-p)\n",
    "\\end{cases}\n",
    "$$\n",
    "So where do we get the up and down factors $u$ and $d$, and the probability $p$? There are two approaches: a data-driven approach and a model-driven approach. Let's start with the data-driven approach.\n",
    "\n",
    "### Real World Parameter Estimation\n",
    "For use to simulate future share price (and return/growth rate) distributions, we need to estimate the up and down factors $u$ and $d$, and the probability $p$. We can estimate these parameters $(u,d,p)$ from historical data.\n",
    "\n",
    "\n"
   ]
  },
  {
   "cell_type": "markdown",
   "id": "6566b4f0",
   "metadata": {},
   "source": [
    "## Stylized Facts\n",
    "We know that equity share price returns (growth rates) exhibit certain statistical properties, known as stylized facts. These properties are observed across various financial markets and are essential for developing and validating financial models.\n",
    "\n",
    "_Does the binomial lattice model capture these stylized facts?_"
   ]
  },
  {
   "cell_type": "markdown",
   "id": "f5c9f6c7",
   "metadata": {},
   "source": []
  }
 ],
 "metadata": {
  "language_info": {
   "name": "python"
  }
 },
 "nbformat": 4,
 "nbformat_minor": 5
}
