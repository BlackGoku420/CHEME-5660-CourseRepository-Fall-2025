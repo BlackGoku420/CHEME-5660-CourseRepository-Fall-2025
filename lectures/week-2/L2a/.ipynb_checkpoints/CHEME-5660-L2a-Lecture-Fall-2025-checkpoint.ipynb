{
 "cells": [
  {
   "cell_type": "code",
   "execution_count": null,
   "id": "e310e073-6407-4596-a9e0-ef4bc9515724",
   "metadata": {},
   "outputs": [],
   "source": []
  }
 ],
 "metadata": {
  "kernelspec": {
   "display_name": "Julia 1.11.5",
   "language": "julia",
   "name": "julia-1.11"
  },
  "language_info": {
   "file_extension": ".jl",
   "mimetype": "application/julia",
   "name": "julia",
   "version": "1.11.5"
  }
 },
 "nbformat": 4,
 "nbformat_minor": 5
}
