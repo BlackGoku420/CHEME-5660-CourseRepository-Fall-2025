{
 "cells": [
  {
   "cell_type": "markdown",
   "id": "e310e073-6407-4596-a9e0-ef4bc9515724",
   "metadata": {},
   "source": [
    "# L2a: Risk Free Assets. Pricing United States Treasury Securities\n",
    "In this lecture we introduce the concept of risk free assets and how to price them. We'll focus on the United States Treasury Securities, which have been considered to be defacto risk free assets by the financial markets. \n",
    "\n",
    "The key concepts that students should be able to define and demonstrate mastery of from this lecture are:\n",
    "* __United States Markatebale Treasury Securities__: Treasury Bills, Notes, and Bonds are examples of fixed-income debt securities. When the United States Government needs to borrow money, it sells debt securities into the debt market at auction. These securities have long been considered risk-free (in some ways, they are, and in others, they are not).\n",
    "* __Risk Free Rate__: Treasury Securities are examples of abstract assets. These investments have current and future cashflow events (the type depends upon the instrument), and they are priced such that the NPV is zero, i.e., the risk-free rate (the discount rate in the discoint factor) is the IRR for these investments.\n",
    "\n",
    "### Examples\n",
    "* [▶ Example: The Price of Zero Coupon United States Treasury Bills](./CHEME-5660-L2a-TBills-Pricing-Fall-2025-WorkedExample.ipynb). In this example, we will compute the price of zero coupon United States Treasury Bills, or `T-bills.`  We will use datasets of `T-bill` auction data from `2023 - 2025` to validate our calculated prices.\n",
    "* [▶ Example: The Price of Coupon United States Treasury Notes](./CHEME-5660-L2a-NotesBonds-Pricing-Fall-2025-WorkedExample.ipynb). In this example, we will compute the price of coupon United States Treasury Notes and Bonds. We will use recent auction datasets from `2022 - 2025` to validate our calculated prices.\n"
   ]
  },
  {
   "cell_type": "code",
   "execution_count": null,
   "id": "861d7466",
   "metadata": {},
   "outputs": [],
   "source": []
  },
  {
   "cell_type": "markdown",
   "id": "86794a80",
   "metadata": {},
   "source": [
    "## Disclaimer and Risks\n",
    "__This content is offered solely for training and informational purposes__. No offer or solicitation to buy or sell securities or derivative products or any investment or trading advice or strategy is made, given, or endorsed by the teaching team. \n",
    "\n",
    "__Trading involves risk__. Carefully review your financial situation before investing in securities, futures contracts, options, or commodity interests. Past performance, whether actual or indicated by historical tests of strategies, is no guarantee of future performance or success. Trading is generally inappropriate for someone with limited resources, investment or trading experience, or a low-risk tolerance.  Only risk capital that is not required for living expenses.\n",
    "\n",
    "__You are fully responsible for any investment or trading decisions you make__. Such decisions should be based solely on evaluating your financial circumstances, investment or trading objectives, risk tolerance, and liquidity needs."
   ]
  }
 ],
 "metadata": {
  "kernelspec": {
   "display_name": "Julia 1.11.5",
   "language": "julia",
   "name": "julia-1.11"
  },
  "language_info": {
   "file_extension": ".jl",
   "mimetype": "application/julia",
   "name": "julia",
   "version": "1.11.5"
  }
 },
 "nbformat": 4,
 "nbformat_minor": 5
}
