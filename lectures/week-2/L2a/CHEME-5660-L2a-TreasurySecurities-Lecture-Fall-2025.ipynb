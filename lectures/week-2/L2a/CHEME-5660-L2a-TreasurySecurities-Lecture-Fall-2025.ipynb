{
 "cells": [
  {
   "cell_type": "markdown",
   "id": "e310e073-6407-4596-a9e0-ef4bc9515724",
   "metadata": {},
   "source": [
    "# L2a: Risk Free Assets. Pricing United States Treasury Securities\n",
    "In this lecture we introduce the concept of risk free assets and how to price them. We'll focus on the United States Treasury Securities, which have been considered to be defacto risk free assets by the financial markets. \n",
    "\n",
    "The key concepts that students should be able to define and demonstrate mastery of from this lecture are:\n",
    "* __United States Markatebale Treasury Securities__: Treasury Bills, Notes, and Bonds are examples of fixed-income debt securities. When the United States Government needs to borrow money, it sells debt securities into the debt market at auction. These securities have long been considered risk-free (in some ways, they are, and in others, they are not).\n",
    "* __Risk-free rate__: Treasury Securities are examples of abstract assets. These investments have current and future cashflow events (the type depends upon the instrument), and they are priced such that the net present value (NPV) equals zero, i.e., the risk-free rate (the discount rate in the discoint factor) is the IRR for these investments.\n",
    "\n",
    "\n",
    "### Examples\n",
    "* [▶ Example: Computing the Price of Zero Coupon United States Treasury Bills](./CHEME-5660-L2a-TBills-Pricing-Fall-2025-WorkedExample.ipynb). In this example, we will compute the price of zero coupon United States Treasury Bills, or `T-bills.`  We will use datasets of `T-bill` auction data from `2023 - 2025` to validate our calculated prices.\n",
    "* [▶ Example: Computing the Price of Coupon United States Treasury Notes](./CHEME-5660-L2a-NotesBonds-Pricing-Fall-2025-WorkedExample.ipynb). In this example, we will compute the price of United States Treasury Notes and Bonds. We will use recent auction datasets from `2022 - 2025` to validate our calculated prices.\n",
    "\n",
    "Let's go!\n",
    "___"
   ]
  },
  {
   "cell_type": "markdown",
   "id": "861d7466",
   "metadata": {},
   "source": [
    "## Treasury Bills\n",
    "A U.S. Treasury bill (T-bill) is a short-term, _zero-coupon debt security_ issued by the [U.S. Department of the Treasury](https://www.treasurydirect.gov) with maturities ranging from a few days to one year. T-bills are sold at a discount to their face (par) value and do not pay periodic interest; investors earn the difference between the purchase price and the bill’s value at maturity.\n",
    "* _Do I have to buy a T-bill at auction?_: No, you can buy T-bills on the secondary market, but the price may be different than the auction price. Because market interest rates fluctuate continuously after the auction, a T-bill’s secondary‐market price will reflect the current prevailing market conditions rather than the conditions at the time of the auction. Other factors such as the remaining time to maturity, and other market factors can also cause the secondary price to diverge from the original auction price.\n",
    "\n",
    "The parameters of the T-bill are set at auction. These parameters _do not change_ as long as you hold the Treasury security. One we get the T-bill it is locked.\n",
    "\n",
    "### Auction Pricing of T-Bills\n",
    "At primary auction, we model a T-bill as having two cashflow events. First, you purchase a Treasury Bill for $V_{B}$ USD at auction (now) and, secondly, at maturity $T$ years from now,  you recieve the face (par) value $V_{P}$ USD of the T-bill (future value). The Bill compounds semi-annually ($n = 2$). The price of the Bill $V_{B}$, assuming a constant interest (discount, return, etc) rate $\\bar{r}$ and a maturity of $T$ (units: years), is the discounted face (par) value $V_{P}$ such that $\\texttt{NPV}\\,=\\,0$ (written from _your_ perspective):\n",
    "$$\n",
    "\\begin{align*}  \n",
    "\\underbrace{\\texttt{NPV}(T,\\bar{r})}_{=\\,0} &= -V_{B} + \\mathcal{D}_{nT,0}^{-1}(\\bar{r})\\cdot{V_{P}}\\quad\\text{solving for price $V_{B}$}\\\\\n",
    "V_{B} &= \\mathcal{D}_{nT,0}^{-1}(\\bar{r})\\cdot{V_{P}}\\quad\\blacksquare\n",
    "\\end{align*}\n",
    "$$\n",
    "where $\\mathcal{D}^{-1}_{nT,0}(\\bar{r})$ the discrete multiperiod discount factor for compounding events $0\\rightarrow{nT}$ asuuming a constant discount rate $\\bar{r}$ is given by: $\\mathcal{D}^{-1}_{nT,0}(\\bar{r}) = \\left(1+\\bar{r}/n\\right)^{-nT}$.\n",
    "\n",
    "### Example\n",
    "* [▶ Example: Computing the Price of Zero Coupon United States Treasury Bills](./CHEME-5660-L2a-TBills-Pricing-Fall-2025-WorkedExample.ipynb). In this example, we will compute the price of zero coupon United States Treasury Bills, or `T-bills.`  We will use datasets of `T-bill` auction data from `2023 - 2025` to validate our calculated prices."
   ]
  },
  {
   "cell_type": "markdown",
   "id": "05944326",
   "metadata": {},
   "source": [
    "## Treasury Notes and Bonds\n",
    "United States Treasury notes (bonds) are debt securities issued by the U.S. Department of the Treasury with maturities of 2 to 10 years (or 20 or 30 years for bonds) that pay semiannual interest (coupon) payments to the holder and return the face (par) value of the bond at maturity. \n",
    "\n",
    "The parameters of the note (bond) are set at auction. These parameters _do not change_ as long as you hold the Treasury security. One we get the note (bond) it is locked.\n",
    "\n",
    "### Auction Pricing of Notes and Bonds\n",
    "At primary auction, we model a T-Note (bond) as having $(nT+2)$ cashflow events. You purchase a $T$-year Treasury note (bond) for $V_{B}$ USD (now, current value). You receive future semi-annual coupon payments (typically, two compounding events per year, $n=2$) and the face (par) value $V_{P}$ USD at maturity. The coupon payments and finaly face value payment at all _future values_. \n",
    "\n",
    "A Treasury note (bond) with constant discount rate $\\bar{r}$, constant coupon interest rate $\\bar{c}$, and $n$ coupon payments per year, is priced at auction such that $\\texttt{NPV}\\,=\\,0$:\n",
    "$$\n",
    "\\begin{align*}\n",
    "\\underbrace{\\texttt{NPV}(T,\\bar{r}, \\bar{c})}_{=\\,0} &= -V_{B} + \\mathcal{D}^{-1}_{n{T},0}(\\bar{r})\\cdot{V_{P}}+C\\cdot\\sum_{j=1}^{n{T}}\\mathcal{D}_{j,0}^{-1}(\\bar{r}) \\quad\\text{solving for price $V_{B}$}\\\\\n",
    "V_{B} &= \\mathcal{D}^{-1}_{nT,0}(\\bar{r})\\cdot{V_{P}}+C\\cdot\\sum_{j=1}^{n{T}}\\mathcal{D}_{j,0}^{-1}(\\bar{r})\\quad\\blacksquare\n",
    "\\end{align*}\n",
    "$$\n",
    "where $\\mathcal{D}_{j,0}(\\bar{r})$ is the discrete multiperiod discount factor for periods $0\\rightarrow{j}$, \n",
    "and $C\\equiv(\\bar{c}/n)\\cdot{V_{P}}$ is the value of a coupon payment.\n",
    "\n",
    "### Example\n",
    "* [▶ Example: Computing the Price of Coupon United States Treasury Notes](./CHEME-5660-L2a-NotesBonds-Pricing-Fall-2025-WorkedExample.ipynb). In this example, we will compute the price of United States Treasury Notes and Bonds. We will use recent auction datasets from `2022 - 2025` to validate our calculated prices."
   ]
  },
  {
   "cell_type": "markdown",
   "id": "738eece2",
   "metadata": {},
   "source": [
    "## Really risk free?\n",
    "United States Treasury securties have traditionally been reviewed as _risk free_, i.e., they are backed by the full faith and credit of the United States. In short, we borrow money, we say we are going to pay it back with certain terms and we always do that. Let's dig a little deeper: are Treasury securities really risk free?\n",
    "\n",
    "Two type of risk:\n",
    "* __Default risk__: In this scenario, the issuer of the bill/note/bond does not pay back the debt, i.e., they default. While the United States has never defaulted, there are many examples of countries in modern times that have defaulted. For example, Greece defaulted in XXXX and Russia defaulted in YYYY. This makes borrowing more expensive (if not impossible) becuase the issuer has _poor credit_. For U.S. treasury securties, the default risk is __low__.\n",
    "* __Interest rate risk__: In this scenario we (the holder of the debt security) want to sell the security on the secondary market, i.e., to convert the debt into cash. However, becuase market conditions, i.e., interest rates have changed since the debt was issued (or we purchased it), the price of the note/bill/bond may have changed. Thus, we could experience a realized captial loss (gain) when we sell the bill/note/bond. For U.S. treasury securties, the interest rate risk is __high__."
   ]
  },
  {
   "cell_type": "markdown",
   "id": "86794a80",
   "metadata": {},
   "source": [
    "## Disclaimer and Risks\n",
    "__This content is offered solely for training and informational purposes__. No offer or solicitation to buy or sell securities or derivative products or any investment or trading advice or strategy is made, given, or endorsed by the teaching team. \n",
    "\n",
    "__Trading involves risk__. Carefully review your financial situation before investing in securities, futures contracts, options, or commodity interests. Past performance, whether actual or indicated by historical tests of strategies, is no guarantee of future performance or success. Trading is generally inappropriate for someone with limited resources, investment or trading experience, or a low-risk tolerance.  Only risk capital that is not required for living expenses.\n",
    "\n",
    "__You are fully responsible for any investment or trading decisions you make__. Such decisions should be based solely on evaluating your financial circumstances, investment or trading objectives, risk tolerance, and liquidity needs."
   ]
  }
 ],
 "metadata": {
  "kernelspec": {
   "display_name": "Julia 1.11.5",
   "language": "julia",
   "name": "julia-1.11"
  },
  "language_info": {
   "file_extension": ".jl",
   "mimetype": "application/julia",
   "name": "julia",
   "version": "1.11.5"
  }
 },
 "nbformat": 4,
 "nbformat_minor": 5
}
