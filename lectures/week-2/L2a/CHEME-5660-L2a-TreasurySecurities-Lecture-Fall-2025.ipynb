{
 "cells": [
  {
   "cell_type": "markdown",
   "id": "e310e073-6407-4596-a9e0-ef4bc9515724",
   "metadata": {},
   "source": [
    "# L2a: Risk Free Assets. Pricing United States Treasury Securities\n",
    "In this lecture we introduce the concept of risk free assets and how to price them. We'll focus on the United States Treasury Securities, which have been considered to be defacto risk free assets by the financial markets. \n",
    "\n",
    "The key concepts that students should be able to define and demonstrate mastery of from this lecture are:\n",
    "* __United States Markatebale Treasury Securities__: Treasury Bills, Notes, and Bonds are examples of fixed-income debt securities. When the United States Government needs to borrow money, it sells debt securities into the debt market at auction. These securities have long been considered risk-free (in some ways, they are, and in others, they are not).\n",
    "* __Risk Free Rate__: Treasury Securities are examples of abstract assets. These investments have current and future cashflow events (the type depends upon the instrument), and they are priced such that the net present value (NPV) equals zero, i.e., the risk-free rate (the discount rate in the discoint factor) is the IRR for these investments.\n",
    "\n",
    "\n",
    "\n",
    "### Examples\n",
    "* [▶ Example: Computing the Price of Zero Coupon United States Treasury Bills](./CHEME-5660-L2a-TBills-Pricing-Fall-2025-WorkedExample.ipynb). In this example, we will compute the price of zero coupon United States Treasury Bills, or `T-bills.`  We will use datasets of `T-bill` auction data from `2023 - 2025` to validate our calculated prices.\n",
    "* [▶ Example: Computing the Price of Coupon United States Treasury Notes](./CHEME-5660-L2a-NotesBonds-Pricing-Fall-2025-WorkedExample.ipynb). In this example, we will compute the price of United States Treasury Notes and Bonds. We will use recent auction datasets from `2022 - 2025` to validate our calculated prices.\n",
    "\n",
    "Let's go!\n",
    "___"
   ]
  },
  {
   "cell_type": "markdown",
   "id": "861d7466",
   "metadata": {},
   "source": [
    "## Treasury Bills\n",
    "A U.S. Treasury bill (T-bill) is a short-term, _zero-coupon debt security_ issued by the [U.S. Department of the Treasury](https://www.treasurydirect.gov) with maturities ranging from a few days to one year. T-bills are sold at a discount to their face (par) value and do not pay periodic interest; investors earn the difference between the purchase price and the bill’s value at maturity.\n",
    "* _Do I have to buy a T-bill at auction?_: No, you can buy T-bills on the secondary market, but the price may be different than the auction price. Because market interest rates fluctuate continuously after the auction, a T-bill’s secondary‐market price will reflect the current prevailing market conditions rather than the conditions at the time of the auction. Other factors such as the remaining time to maturity, and other market factors can also cause the secondary price to diverge from the original auction price.\n",
    "\n",
    "### Auction Pricing of T-Bills\n",
    "You purchase a Treasury Bill for $V_{B}$ USD at auction (now) and, at maturity $T$ years from now, \n",
    "you recieve the face (par) value $V_{P}$ USD of the Bill (future value). The Bill compounds semi-annually ($n = 2$). The price $V_{B}$, assuming a constant interest (discount, return) rate $\\bar{r}$ and a maturity of $T$ (units: years), is the discounted face (par) value $V_{P}$ such that $\\texttt{NPV}\\,=\\,0$:\n",
    "$$\n",
    "\\begin{align*}  \n",
    "\\text{NPV}(T,\\bar{r}) = -V_{B} + \\mathcal{D}_{nT,0}^{-1}(\\bar{r})\\cdot{V_{P}} = 0\n",
    "\\end{align*}\n",
    "$$\n",
    "or equivalently (solving for $V_{B}$):\n",
    "$$\n",
    "\\begin{align*}\n",
    "    V_{B} = \\mathcal{D}_{nT,0}^{-1}(\\bar{r})\\cdot{V_{P}}\n",
    "\\end{align*}\n",
    "$$\n",
    "where $\\mathcal{D}_{nT,0}(\\bar{r})$ is the discrete multiperiod discount factor for compounding events $0\\rightarrow{nT}$. "
   ]
  },
  {
   "cell_type": "markdown",
   "id": "05944326",
   "metadata": {},
   "source": [
    "## Treasury Notes and Bonds\n",
    "Fill me in."
   ]
  },
  {
   "cell_type": "markdown",
   "id": "86794a80",
   "metadata": {},
   "source": [
    "## Disclaimer and Risks\n",
    "__This content is offered solely for training and informational purposes__. No offer or solicitation to buy or sell securities or derivative products or any investment or trading advice or strategy is made, given, or endorsed by the teaching team. \n",
    "\n",
    "__Trading involves risk__. Carefully review your financial situation before investing in securities, futures contracts, options, or commodity interests. Past performance, whether actual or indicated by historical tests of strategies, is no guarantee of future performance or success. Trading is generally inappropriate for someone with limited resources, investment or trading experience, or a low-risk tolerance.  Only risk capital that is not required for living expenses.\n",
    "\n",
    "__You are fully responsible for any investment or trading decisions you make__. Such decisions should be based solely on evaluating your financial circumstances, investment or trading objectives, risk tolerance, and liquidity needs."
   ]
  }
 ],
 "metadata": {
  "kernelspec": {
   "display_name": "Julia 1.11.5",
   "language": "julia",
   "name": "julia-1.11"
  },
  "language_info": {
   "file_extension": ".jl",
   "mimetype": "application/julia",
   "name": "julia",
   "version": "1.11.5"
  }
 },
 "nbformat": 4,
 "nbformat_minor": 5
}
