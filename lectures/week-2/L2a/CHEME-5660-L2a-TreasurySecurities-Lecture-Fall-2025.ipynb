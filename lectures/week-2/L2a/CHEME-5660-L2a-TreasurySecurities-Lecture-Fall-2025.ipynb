{
 "cells": [
  {
   "cell_type": "markdown",
   "id": "e310e073-6407-4596-a9e0-ef4bc9515724",
   "metadata": {},
   "source": [
    "# L2a: Risk Free Assets. Pricing United States Treasury Securities\n",
    "In this lecture, we introduce the concept of risk-free assets and how to price them. We'll focus on the United States Treasury Securities, which the financial markets have considered de facto risk-free assets. \n",
    "\n",
    "The key concepts that students should be able to define and demonstrate mastery of from this lecture are:\n",
    "* __United States Marketable Treasury Securities__: Treasury Bills, Notes, and Bonds are examples of fixed-income debt securities. When the United States Government needs to borrow money, it sells debt securities into the debt market at auction. These securities have long been considered risk-free (in some ways, they are, and in others, they are not).\n",
    "* __Really risk-free__? Treasury Securities are examples of abstract assets. These investments have current and future cashflow events (the type depends upon the instrument), and they are priced such that the net present value (NPV) equals zero. The risk-free rate (the discount rate in the discount factor) is the IRR for these investments. \n",
    "\n",
    "### Examples\n",
    "* [▶ Example: Computing the Price of Zero Coupon United States Treasury Bills](./CHEME-5660-L2a-TBills-Pricing-Fall-2025-WorkedExample.ipynb). In this example, we will compute the price of zero-coupon United States Treasury Bills, or `T-bills.`  We will use datasets of `T-bill` auction data from `2023 - 2025` to validate our calculated prices.\n",
    "* [▶ Example: Computing the Price of Coupon United States Treasury Notes](./CHEME-5660-L2a-NotesBonds-Pricing-Fall-2025-WorkedExample.ipynb). In this example, we will compute the price of United States Treasury Notes and Bonds. We will use recent auction datasets from `2022 to 2025 to validate our calculated prices.\n",
    "\n",
    "Let's go!\n",
    "___"
   ]
  },
  {
   "cell_type": "markdown",
   "id": "861d7466",
   "metadata": {},
   "source": [
    "## Treasury Bills\n",
    "A U.S. Treasury bill (T-bill) is a short-term, _zero-coupon debt security_ issued by the [U.S. Department of the Treasury](https://www.treasurydirect.gov) with maturities ranging from a few days to one year. T-bills are sold at a discount to their face (par) value and do not pay periodic interest; investors earn the difference between the purchase price and the bill's value at maturity.\n",
    "> __Where can I buy T-bills (or other Treasury Securities)?__ You can buy T-bills directly from the U.S. Department of the Treasury through [TreasuryDirect](https://www.treasurydirect.gov), or you can purchase them through a bank or broker. You can hold to maturity, but they are tradable securities, thus, you can buy and sell them on the secondary market after the initial auction.\n",
    "\n",
    "Let's look at how to price T-bills at auction.\n",
    "\n",
    "### Auction Pricing of T-Bills\n",
    "At auction, a T-bill has two cashflow events. First, you purchase a Treasury Bill for $V_{B}$ USD at auction (now) and, secondly, at maturity $T$ years from now, you receive the face (par) value $V_{P}$ USD of the T-bill (future value). For pricing calculations, we use a semiannual compounding convention ($n = 2$).\n",
    "\n",
    "The price $V_{B}$ USD, assuming a constant interest rate $\\bar{r}$ (discount rate) and a maturity of $T$ (units: years), is the discounted face (par) value $V_{P}$ such that $\\texttt{NPV}\\,=\\,0$ (written from _your_ perspective):\n",
    "$$\n",
    "\\begin{align*}  \n",
    "\\underbrace{\\texttt{NPV}(T,\\bar{r})}_{=\\,0} &= -V_{B} + \\mathcal{D}_{nT,0}^{-1}(\\bar{r})\\cdot{V_{P}}\\quad\\text{solving for price $V_{B}$}\\\\\n",
    "V_{B} &= \\mathcal{D}_{nT,0}^{-1}(\\bar{r})\\cdot{V_{P}}\\quad\\blacksquare\n",
    "\\end{align*}\n",
    "$$\n",
    "where $\\mathcal{D}^{-1}_{nT,0}(\\bar{r})$ is the discrete multiperiod discount factor for compounding events $0\\rightarrow{nT}$. Assuming discrete compounding and a constant discount rate $\\bar{r}$, the discrete multiperiod discount factor is given by: $\\mathcal{D}^{-1}_{nT,0}(\\bar{r}) = \\left(1+\\bar{r}/n\\right)^{-nT}$.\n",
    "\n",
    "Let's look at an example of how to compute the price of a T-bill at auction. We'll compare our calculated price to the actual auction price of different T-bills.\n",
    "\n",
    "### Example: Pricing T-Bills\n",
    "> [▶ Computing the Price of Zero Coupon United States Treasury Bills](./CHEME-5660-L2a-TBills-Pricing-Fall-2025-WorkedExample.ipynb). In this example, we will compute the price of zero-coupon United States Treasury Bills, or `T-bills.`  We will use datasets of `T-bill` auction data from `2023 - 2025` to validate our calculated prices. This will give us a chance to use the `VLQuantiativeFinance.jl` package to compute the price of T-bills.\n",
    "\n",
    "___"
   ]
  },
  {
   "cell_type": "markdown",
   "id": "05944326",
   "metadata": {},
   "source": [
    "## Treasury Notes and Bonds\n",
    "United States Treasury notes (bonds) are debt securities issued by the U.S. Department of the Treasury with maturities of 2 to 10 years (or 20 or 30 years for bonds) that pay semiannual interest (coupon) payments to the holder and return the face (par) value of the bond at maturity. \n",
    "\n",
    "Like a T-bill, the parameters (agreement between the debt holder and issuer) of the note (bond) are set at auction. These parameters do not change for the holder, but they may change in the market. \n",
    "\n",
    "### Auction Pricing of Notes and Bonds\n",
    "At auction, we model a T-Note (bond) as having $(nT+2)$ cashflow events. You purchase a $T$-year Treasury note (bond) for $V_{B}$ USD (now, current value). You receive future semi-annual coupon payments (typically, two compounding events per year, $n=2$) and the face (par) value $V_{P}$ USD at maturity (all future value).\n",
    "\n",
    "A Treasury note (bond) with constant discount rate $\\bar{r}$, constant coupon interest rate $\\bar{c}$, and $n$ coupon payments per year, is priced at auction such that $\\texttt{NPV}\\,=\\,0$:\n",
    "$$\n",
    "\\begin{align*}\n",
    "\\underbrace{\\texttt{NPV}(T,\\bar{r}, \\bar{c})}_{=\\,0} &= -V_{B} + \\mathcal{D}^{-1}_{n{T},0}(\\bar{r})\\cdot{V_{P}}+C\\cdot\\sum_{j=1}^{n{T}}\\mathcal{D}_{j,0}^{-1}(\\bar{r}) \\quad\\text{solving for price $V_{B}$}\\\\\n",
    "V_{B} &= \\mathcal{D}^{-1}_{nT,0}(\\bar{r})\\cdot{V_{P}}+C\\cdot\\sum_{j=1}^{n{T}}\\mathcal{D}_{j,0}^{-1}(\\bar{r})\\quad\\blacksquare\n",
    "\\end{align*}\n",
    "$$\n",
    "where $C\\equiv(\\bar{c}/n)\\cdot{V_{P}}$ is the value of a coupon payment, and $\\mathcal{D}^{-1}_{j,0}(\\bar{r})$ is the discrete multiperiod discount factor for periods $0\\rightarrow{j}$ given by: $\\mathcal{D}^{-1}_{j,0}(\\bar{r}) = \\left(1+\\bar{r}/n\\right)^{-j}$.\n",
    "\n",
    "### Example\n",
    "* [▶ Example: Computing the Price of Coupon United States Treasury Notes](./CHEME-5660-L2a-NotesBonds-Pricing-Fall-2025-WorkedExample.ipynb). In this example, we will compute the price of United States Treasury Notes and Bonds. We will use recent auction datasets from `2022 to 2025 to validate our calculated prices."
   ]
  },
  {
   "cell_type": "markdown",
   "id": "738eece2",
   "metadata": {},
   "source": [
    "## Are Treasury securities risk-free?\n",
    "United States Treasury securities are considered risk-free, backed by the country's full faith and credit. When we borrow, we commit to repaying under specific terms, which we consistently honor. In contrast, this guarantee does not apply to Treasury securities from other countries.\n",
    "\n",
    "Are Treasury securities risk-free? No, there are two types of risk:\n",
    "* __Default risk__: In this scenario, the issuer of the bill/note/bond does not pay back the debt, i.e., they default. While the United States has never defaulted, many examples of countries in modern times have defaulted. For example, [Greece defaulted in 2011](https://en.wikipedia.org/wiki/Greek_government-debt_crisis) and [Russia defaulted in 1998](https://en.wikipedia.org/wiki/1998_Russian_financial_crisis). This makes borrowing more expensive (if not impossible) because the issuer has _poor credit_. For U.S. treasury securities, the default risk is __low__.\n",
    "* __Interest rate risk__: In this scenario, we (the debt holder) want to sell the security on the secondary market, i.e., to convert the debt security back into cash. However, because market conditions, i.e., interest rates, have changed since the debt was issued (or we purchased it), the note/bill/bond price may have changed. Thus, we could experience a realized capital loss (gain) when we sell the bill/note/bond. For U.S. treasury securities, the interest rate risk is __high__."
   ]
  },
  {
   "cell_type": "markdown",
   "id": "931de0e1",
   "metadata": {},
   "source": [
    "### Case Study: Default Risk and Long-Term Capital Management (LTCM)\n",
    "[Long-Term Capital Management (LTCM)](https://en.wikipedia.org/wiki/Long-Term_Capital_Management) was a highly leveraged hedge fund founded in 1994 by Nobel Prize-winning economists and experienced traders that relied on complex quantitative models. At its peak, LTCM held over $1 trillion in notional positions with leverage ratios approaching 25:1.\n",
    "\n",
    "* __What happend__? LTCM's highly leveraged fixed-income strategy was initially successful, with annualized returns (after fees) of around 21% in its first year, 43% in its second year, and 41% in its third year. However, in 1998, it lost approximately 4.6 billion USD in four months due to exposure to the [1997 Asian financial crisis](https://en.wikipedia.org/wiki/1997_Asian_financial_crisis) and [1998 Russian financial crisis](https://en.wikipedia.org/wiki/1998_Russian_financial_crisis).\n",
    "* __What was the aftermath?__ LTCM's losses were so significant (and connected to many Wall Street institutions) that they threatened the global financial system's stability (financial contagion). The [Federal Reserve Bank of New York](https://www.newyorkfed.org) organized a bailout by a consortium of banks and financial institutions to prevent a systemic crisis. The bailout was completed in October 1998, with the consortium providing $3.6 billion in capital to LTCM.\n",
    "\n",
    "### Case Study: Interest Rate Risk and Silicon Valley Bank (SVB)\n",
    "Silicon Valley Bank collapsed in March 2023 after rising interest rates eroded the value of its long‐duration bond portfolio. When a sudden run on deposits by tech clients occurred, the rapid outflow of funds left the bank unable to meet liquidity needs, leading to its closure by regulators.\n",
    "* __What happend__? Silicon Valley Bank (SVB) invested heavily in long-duration U.S. government securities while interest rates were low. As the Federal Reserve raised rates in 2022–2023, the value of these bonds fell, leading to significant unrealized losses. In early March 2023, many uninsured tech-startup depositors withdrew funds. When SVB announced a capital raise to cover its realized bond losses, panic ensued, resulting in bank failure. \n",
    "* __What was the aftermath?__ The [Federal Deposit Insurance Corporation (FDIC)](https://www.fdic.gov) took control of SVB on March 10, 2023, marking the most significant bank failure since the 2008 financial crisis (second largest in U.S. history). To prevent a broader banking crisis, the U.S. government stepped in to protect all depositors, including those with uninsured balances. The [United States Federal Reserve](https://www.federalreserve.gov) also introduced emergency lending facilities to provide liquidity to banks facing similar issues.\n",
    "\n",
    "Let's watch a video describing the [collapse of Silicon Valley Bank from PBS](https://www.yout-ube.com/watch?v=7tNt7WaP4iA)."
   ]
  },
  {
   "cell_type": "markdown",
   "id": "86794a80",
   "metadata": {},
   "source": [
    "## Disclaimer and Risks\n",
    "__This content is offered solely for training and informational purposes__. No offer or solicitation to buy or sell securities or derivative products or any investment or trading advice or strategy is made, given, or endorsed by the teaching team. \n",
    "\n",
    "__Trading involves risk__. Carefully review your financial situation before investing in securities, futures contracts, options, or commodity interests. Past performance, whether actual or indicated by historical tests of strategies, is no guarantee of future performance or success. Trading is generally inappropriate for someone with limited resources, investment or trading experience, or a low-risk tolerance.  Only risk capital that is not required for living expenses.\n",
    "\n",
    "__You are fully responsible for any investment or trading decisions you make__. Such decisions should be based solely on evaluating your financial circumstances, investment or trading objectives, risk tolerance, and liquidity needs."
   ]
  }
 ],
 "metadata": {
  "kernelspec": {
   "display_name": "Julia 1.11.5",
   "language": "julia",
   "name": "julia-1.11"
  },
  "language_info": {
   "file_extension": ".jl",
   "mimetype": "application/julia",
   "name": "julia",
   "version": "1.11.5"
  }
 },
 "nbformat": 4,
 "nbformat_minor": 5
}
